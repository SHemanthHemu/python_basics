{
 "cells": [
  {
   "cell_type": "markdown",
   "metadata": {},
   "source": [
    "## Working with Databases in Python"
   ]
  },
  {
   "cell_type": "code",
   "execution_count": 1,
   "metadata": {},
   "outputs": [],
   "source": [
    "# Connecting to SQLite Database\n",
    "import sqlite3"
   ]
  },
  {
   "cell_type": "code",
   "execution_count": null,
   "metadata": {},
   "outputs": [
    {
     "name": "stdout",
     "output_type": "stream",
     "text": [
      "connected with sqlite\n"
     ]
    }
   ],
   "source": [
    "# connection String\n",
    "conn = sqlite3.connect(\"my_database.db\")\n",
    "cursor=conn.cursor()\n",
    "print(\"connected with sqlite\")"
   ]
  },
  {
   "cell_type": "code",
   "execution_count": 4,
   "metadata": {},
   "outputs": [],
   "source": [
    "cursor.execute('''create table if not exists \n",
    "               employees (\n",
    "                   id integer primary key,\n",
    "                   name text not null,\n",
    "                   age integer,\n",
    "                   department text )''')\n",
    "\n",
    "conn.commit()"
   ]
  },
  {
   "cell_type": "code",
   "execution_count": null,
   "metadata": {},
   "outputs": [],
   "source": [
    "# insert/create\n",
    "cursor.execute(\"insert into employees (id,name,age,department) values (?,?,?,?)\",(1,\"gopi\",32,\"it\"))\n",
    "conn.commit()"
   ]
  },
  {
   "cell_type": "code",
   "execution_count": 6,
   "metadata": {},
   "outputs": [
    {
     "name": "stdout",
     "output_type": "stream",
     "text": [
      "(1, 'gopi', 32, 'it')\n"
     ]
    }
   ],
   "source": [
    "# retive /read \n",
    "cursor.execute(\"select * from employees\")\n",
    "rows = cursor.fetchall()\n",
    "for row in rows:\n",
    "    print(row)\n"
   ]
  },
  {
   "cell_type": "code",
   "execution_count": 7,
   "metadata": {},
   "outputs": [],
   "source": [
    "# update \n",
    "cursor.execute(\"update employees set age = ? where name = ?\",(31,\"gopi\"))\n",
    "conn.commit()"
   ]
  },
  {
   "cell_type": "code",
   "execution_count": 8,
   "metadata": {},
   "outputs": [
    {
     "name": "stdout",
     "output_type": "stream",
     "text": [
      "(1, 'gopi', 31, 'it')\n"
     ]
    }
   ],
   "source": [
    "# retive /read \n",
    "cursor.execute(\"select * from employees\")\n",
    "rows = cursor.fetchall()\n",
    "for row in rows:\n",
    "    print(row)"
   ]
  },
  {
   "cell_type": "code",
   "execution_count": 9,
   "metadata": {},
   "outputs": [],
   "source": [
    "# insert/create\n",
    "cursor.execute(\"insert into employees (id,name,age,department) values (?,?,?,?)\",(2,\"siva\",35,\"it\"))\n",
    "conn.commit()"
   ]
  },
  {
   "cell_type": "code",
   "execution_count": 10,
   "metadata": {},
   "outputs": [
    {
     "name": "stdout",
     "output_type": "stream",
     "text": [
      "(1, 'gopi', 31, 'it')\n",
      "(2, 'siva', 35, 'it')\n"
     ]
    }
   ],
   "source": [
    "# retive /read \n",
    "cursor.execute(\"select * from employees\")\n",
    "rows = cursor.fetchall()\n",
    "for row in rows:\n",
    "    print(row)"
   ]
  },
  {
   "cell_type": "code",
   "execution_count": 15,
   "metadata": {},
   "outputs": [],
   "source": [
    "# delete \n",
    "cursor.execute(\"delete from employees where name = ?\",(\"gopi\",))\n",
    "conn.commit()"
   ]
  },
  {
   "cell_type": "code",
   "execution_count": 16,
   "metadata": {},
   "outputs": [
    {
     "name": "stdout",
     "output_type": "stream",
     "text": [
      "(2, 'siva', 35, 'it')\n"
     ]
    }
   ],
   "source": [
    "# retive /read \n",
    "cursor.execute(\"select * from employees\")\n",
    "rows = cursor.fetchall()\n",
    "for row in rows:\n",
    "    print(row)"
   ]
  },
  {
   "cell_type": "code",
   "execution_count": 3,
   "metadata": {},
   "outputs": [],
   "source": [
    "import pyodbc"
   ]
  },
  {
   "cell_type": "code",
   "execution_count": 4,
   "metadata": {},
   "outputs": [],
   "source": [
    "# Define connection parameters\n",
    "server = 'HEMANTHHEMU'  # Example: 'localhost\\\\SQLEXPRESS'\n",
    "database = 'python'\n",
    "username = 'sa'  # If using SQL authentication\n",
    "password = 'Hemu@1996'  # If using SQL authentication\n",
    "\n",
    "# Establish connection\n",
    "conn = pyodbc.connect(f'DRIVER={{SQL Server}};'\n",
    "                      f'SERVER={server};'\n",
    "                      f'DATABASE={database};'\n",
    "                      f'UID={username};'\n",
    "                      f'PWD={password}')\n",
    "\n",
    "cursor1 =conn.cursor()\n"
   ]
  },
  {
   "cell_type": "code",
   "execution_count": 9,
   "metadata": {},
   "outputs": [],
   "source": [
    "cursor1.execute('''create table \n",
    "               employees (\n",
    "                   id integer ,\n",
    "                   name text not null,\n",
    "                   age integer,\n",
    "                   department text )''')\n",
    "\n",
    "conn.commit()"
   ]
  },
  {
   "cell_type": "code",
   "execution_count": 12,
   "metadata": {},
   "outputs": [],
   "source": [
    "# insert/create\n",
    "cursor1.execute(\"insert into employees (id,name,age,department) values (?,?,?,?)\",(1,\"gopi\",32,\"it\"))\n",
    "cursor1.execute(\"insert into employees (id,name,age,department) values (?,?,?,?)\",(2,\"siva\",35,\"it\"))\n",
    "cursor1.execute(\"insert into employees (id,name,age,department) values (?,?,?,?)\",(3,\"kasi\",25,\"prd\"))\n",
    "conn.commit()"
   ]
  },
  {
   "cell_type": "code",
   "execution_count": 14,
   "metadata": {},
   "outputs": [
    {
     "name": "stdout",
     "output_type": "stream",
     "text": [
      "(1, 'gopi', 32, 'it')\n",
      "(2, 'siva', 35, 'it')\n",
      "(1, 'gopi', 32, 'it')\n",
      "(2, 'siva', 35, 'it')\n",
      "(3, 'kasi', 25, 'prd')\n",
      "(1, 'gopi', 32, 'it')\n",
      "(2, 'siva', 35, 'it')\n",
      "(3, 'kasi', 25, 'prd')\n"
     ]
    }
   ],
   "source": [
    "cursor1.execute(\"select * from employees\")\n",
    "rows = cursor1.fetchall()\n",
    "for row in rows:\n",
    "    print(row)"
   ]
  }
 ],
 "metadata": {
  "kernelspec": {
   "display_name": "Python 3",
   "language": "python",
   "name": "python3"
  },
  "language_info": {
   "codemirror_mode": {
    "name": "ipython",
    "version": 3
   },
   "file_extension": ".py",
   "mimetype": "text/x-python",
   "name": "python",
   "nbconvert_exporter": "python",
   "pygments_lexer": "ipython3",
   "version": "3.13.0"
  }
 },
 "nbformat": 4,
 "nbformat_minor": 2
}
