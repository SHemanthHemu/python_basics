{
 "cells": [
  {
   "cell_type": "code",
   "execution_count": 19,
   "metadata": {},
   "outputs": [
    {
     "name": "stdout",
     "output_type": "stream",
     "text": [
      "<class 'str'>\n",
      "<class 'int'>\n"
     ]
    }
   ],
   "source": [
    "name = \"john\"\n",
    "age = 16   \n",
    "\n",
    "print(type(name))\n",
    "print(type(age))\n",
    "\n",
    "if age >= 18:\n",
    "    print(f\"hi {name} you are eligible for lisence\")"
   ]
  },
  {
   "cell_type": "code",
   "execution_count": 21,
   "metadata": {},
   "outputs": [
    {
     "name": "stdout",
     "output_type": "stream",
     "text": [
      "hi john , since your age is < 18 you are not eligible for lisence\n"
     ]
    }
   ],
   "source": [
    "name = \"john\"\n",
    "age = 16   \n",
    "\n",
    "if age >= 18:\n",
    "    print(f\"hi {name} you are eligible for lisence\")\n",
    "else:\n",
    "    print(f\"hi {name} , since your age is < 18 you are not eligible for lisence\")"
   ]
  },
  {
   "cell_type": "code",
   "execution_count": null,
   "metadata": {},
   "outputs": [],
   "source": [
    "marks = 25\n",
    "\n",
    "if marks>= 90:\n",
    "    print(\"you got A+ grade\")\n",
    "elif marks>=80:\n",
    "    print(\"you got A grade\")\n",
    "elif marks>=70:\n",
    "    print(\"you got b grade\")\n",
    "elif marks>=35:\n",
    "    print(\"you got c grade\")\n",
    "else:\n",
    "    print(\"you are not qualified\")"
   ]
  },
  {
   "cell_type": "code",
   "execution_count": 30,
   "metadata": {},
   "outputs": [
    {
     "name": "stdout",
     "output_type": "stream",
     "text": [
      "you cannot access this system\n"
     ]
    }
   ],
   "source": [
    "name = \"john\"\n",
    "department = \"prd\"\n",
    "role = \"user\"\n",
    "\n",
    "if department == \"maintenance\":\n",
    "    if role == \"admin\":\n",
    "        print(f\"{name} your can access the system\")\n",
    "else:\n",
    "    print(\"you cannot access this system\")"
   ]
  },
  {
   "cell_type": "code",
   "execution_count": 37,
   "metadata": {},
   "outputs": [
    {
     "name": "stdout",
     "output_type": "stream",
     "text": [
      "1\n",
      "2\n",
      "3\n",
      "5\n",
      "8\n",
      "7\n"
     ]
    }
   ],
   "source": [
    "# loops \n",
    "\n",
    "list1 =[1,2,3,5,8,7]\n",
    "\n",
    "# for loop \n",
    "\n",
    "for e in list1:\n",
    "    print(e)\n",
    "\n"
   ]
  },
  {
   "cell_type": "code",
   "execution_count": 40,
   "metadata": {},
   "outputs": [
    {
     "name": "stdout",
     "output_type": "stream",
     "text": [
      "3\n",
      "5\n",
      "7\n",
      "9\n"
     ]
    }
   ],
   "source": [
    "for i in range(3,10,2):\n",
    "    print(i)"
   ]
  },
  {
   "cell_type": "code",
   "execution_count": 43,
   "metadata": {},
   "outputs": [
    {
     "name": "stdout",
     "output_type": "stream",
     "text": [
      "heating\n",
      "heating\n",
      "heating\n",
      "heating\n",
      "heating\n",
      "heating\n",
      "heating\n",
      "heating\n",
      "heating\n",
      "heating\n",
      "heating\n",
      "heating\n",
      "heating\n",
      "heating\n",
      "heating\n",
      "heating\n",
      "heating\n",
      "heating\n",
      "heating\n",
      "heating\n"
     ]
    }
   ],
   "source": [
    "#while loop\n",
    "temp = 0\n",
    "\n",
    "while temp < 100:\n",
    "    print(\"heating\")\n",
    "    # temp= temp+1\n",
    "    temp+=5"
   ]
  },
  {
   "cell_type": "code",
   "execution_count": null,
   "metadata": {},
   "outputs": [],
   "source": [
    "# continue \n",
    "# break \n",
    "# pass  "
   ]
  },
  {
   "cell_type": "code",
   "execution_count": 49,
   "metadata": {},
   "outputs": [
    {
     "name": "stdout",
     "output_type": "stream",
     "text": [
      "1\n",
      "2\n",
      "5\n",
      "8\n",
      "7\n",
      "loop exicuted successfully\n"
     ]
    }
   ],
   "source": [
    "list1 =[1,2,3,5,8,7]\n",
    "\n",
    "for i in list1:\n",
    "    if i == 3:\n",
    "        continue\n",
    "    print(i)\n",
    "else:\n",
    "    print(\"loop exicuted successfully\")"
   ]
  },
  {
   "cell_type": "code",
   "execution_count": 50,
   "metadata": {},
   "outputs": [
    {
     "name": "stdout",
     "output_type": "stream",
     "text": [
      "1\n",
      "2\n"
     ]
    }
   ],
   "source": [
    "list1 =[1,2,3,5,8,7]\n",
    "\n",
    "for i in list1:\n",
    "    if i == 3:\n",
    "        break\n",
    "    print(i)\n",
    "else:\n",
    "    print(\"loop exicuted successfully\")\n"
   ]
  },
  {
   "cell_type": "code",
   "execution_count": 47,
   "metadata": {},
   "outputs": [
    {
     "name": "stdout",
     "output_type": "stream",
     "text": [
      "1\n",
      "2\n",
      "3\n",
      "5\n",
      "8\n",
      "7\n"
     ]
    }
   ],
   "source": [
    "list1 =[1,2,3,5,8,7]\n",
    "\n",
    "for i in list1:\n",
    "    if i == 3:\n",
    "        pass \n",
    "    print(i)"
   ]
  },
  {
   "cell_type": "code",
   "execution_count": null,
   "metadata": {},
   "outputs": [],
   "source": []
  }
 ],
 "metadata": {
  "kernelspec": {
   "display_name": "Python 3",
   "language": "python",
   "name": "python3"
  },
  "language_info": {
   "codemirror_mode": {
    "name": "ipython",
    "version": 3
   },
   "file_extension": ".py",
   "mimetype": "text/x-python",
   "name": "python",
   "nbconvert_exporter": "python",
   "pygments_lexer": "ipython3",
   "version": "3.13.0"
  }
 },
 "nbformat": 4,
 "nbformat_minor": 2
}
