{
 "cells": [
  {
   "cell_type": "markdown",
   "metadata": {},
   "source": [
    "## Functions in python"
   ]
  },
  {
   "cell_type": "code",
   "execution_count": null,
   "metadata": {},
   "outputs": [],
   "source": [
    "# function definition\n",
    "def greeting (name ,age,role):\n",
    "    \"\"\" this function will gree the user with out his name \"\"\"\n",
    "    print(f\"hello {name} Welcome to my data lab your are at the age of {age} and your role is {role}\")"
   ]
  },
  {
   "cell_type": "code",
   "execution_count": null,
   "metadata": {},
   "outputs": [
    {
     "name": "stdout",
     "output_type": "stream",
     "text": [
      "hello kety Welcome to my data lab your are at the age of 32 and your role is admin\n"
     ]
    }
   ],
   "source": [
    "# function calling\n",
    "name = input(\"please enter your name: \")\n",
    "greeting(name,32,\"admin\")"
   ]
  },
  {
   "cell_type": "code",
   "execution_count": null,
   "metadata": {},
   "outputs": [],
   "source": [
    "def greeting1 (name = \"user\" ,age = \"your age\",role=\"na\"):\n",
    "    \"\"\" this function will gree the user with out his name \"\"\"\n",
    "    print(f\"hello {name} Welcome to my data lab you are at the age of {age} and your role is {role}\")"
   ]
  },
  {
   "cell_type": "code",
   "execution_count": 29,
   "metadata": {},
   "outputs": [
    {
     "name": "stdout",
     "output_type": "stream",
     "text": [
      "hello gopi Welcome to my data lab you are at the age of 32 and your role is admin\n"
     ]
    }
   ],
   "source": [
    "greeting (\"gopi\" , 32,\"admin\")"
   ]
  },
  {
   "cell_type": "code",
   "execution_count": 31,
   "metadata": {},
   "outputs": [],
   "source": [
    "def greeting2 (name,age,role):\n",
    "    \"\"\" this function will gree the user with out his name \"\"\"\n",
    "    print(f\"hello {name} Welcome to my data lab you are at the age of {age} and your role is {role}\")"
   ]
  },
  {
   "cell_type": "code",
   "execution_count": 35,
   "metadata": {},
   "outputs": [
    {
     "name": "stdout",
     "output_type": "stream",
     "text": [
      "hello gopi Welcome to my data lab you are at the age of 32 and your role is admin\n"
     ]
    }
   ],
   "source": [
    "greeting2(age=32,name=\"gopi\",role=\"admin\")"
   ]
  },
  {
   "cell_type": "code",
   "execution_count": 36,
   "metadata": {},
   "outputs": [],
   "source": [
    "def sum_of_number(*args):\n",
    "    print(sum(args))"
   ]
  },
  {
   "cell_type": "code",
   "execution_count": 40,
   "metadata": {},
   "outputs": [
    {
     "name": "stdout",
     "output_type": "stream",
     "text": [
      "0\n",
      "6\n",
      "10\n"
     ]
    }
   ],
   "source": [
    "sum_of_number()\n",
    "sum_of_number(1,2,3)\n",
    "sum_of_number(1,2,3,4)\n"
   ]
  },
  {
   "cell_type": "code",
   "execution_count": 42,
   "metadata": {},
   "outputs": [],
   "source": [
    "def person_info(**kwargs):\n",
    "    for key , value in kwargs.items():\n",
    "        print(f\"{key} : {value}\")"
   ]
  },
  {
   "cell_type": "code",
   "execution_count": 44,
   "metadata": {},
   "outputs": [
    {
     "name": "stdout",
     "output_type": "stream",
     "text": [
      "name : gopi\n",
      "age : 25\n",
      "role : admin\n"
     ]
    }
   ],
   "source": [
    "person_info(name=\"gopi\",age=25,role=\"admin\")"
   ]
  },
  {
   "cell_type": "code",
   "execution_count": 51,
   "metadata": {},
   "outputs": [],
   "source": [
    "def minimun_number (*args):\n",
    "    return min(args)\n",
    "    # print(min(args))"
   ]
  },
  {
   "cell_type": "code",
   "execution_count": 52,
   "metadata": {},
   "outputs": [
    {
     "name": "stdout",
     "output_type": "stream",
     "text": [
      "min of provided list is 1\n"
     ]
    }
   ],
   "source": [
    "min_of_num = minimun_number(1,2,5,6,8,9)\n",
    "print(f\"min of provided list is {min_of_num}\")"
   ]
  },
  {
   "cell_type": "code",
   "execution_count": null,
   "metadata": {},
   "outputs": [],
   "source": [
    "name = \"jenny\" # global variable\n",
    "\n",
    "def greet4 (name):\n",
    "    age = 32 # local variable \n",
    "    print(f\"hi {name} and your age is {age}\")\n",
    "\n",
    "print(f\"hi {name} and your age is {age}\")"
   ]
  },
  {
   "cell_type": "code",
   "execution_count": 53,
   "metadata": {},
   "outputs": [
    {
     "name": "stdout",
     "output_type": "stream",
     "text": [
      "13\n"
     ]
    }
   ],
   "source": [
    "sum = lambda a,b : a+b\n",
    "\n",
    "print(sum(5,8))"
   ]
  },
  {
   "cell_type": "code",
   "execution_count": 58,
   "metadata": {},
   "outputs": [],
   "source": [
    "list2 = [1,2,5,8,9]\n",
    "\n",
    "def multi_with_2 (list):\n",
    "    temp = []\n",
    "    for item in list:\n",
    "        temp.append(item*2)\n",
    "    return temp"
   ]
  },
  {
   "cell_type": "code",
   "execution_count": 59,
   "metadata": {},
   "outputs": [
    {
     "data": {
      "text/plain": [
       "[2, 4, 10, 16, 18]"
      ]
     },
     "execution_count": 59,
     "metadata": {},
     "output_type": "execute_result"
    }
   ],
   "source": [
    "multi_with_2(list2)"
   ]
  },
  {
   "cell_type": "code",
   "execution_count": 63,
   "metadata": {},
   "outputs": [
    {
     "name": "stdout",
     "output_type": "stream",
     "text": [
      "[3, 7, 8, 9, 10]\n"
     ]
    }
   ],
   "source": [
    "list3 = [1,5,6,7,8]\n",
    "\n",
    "squared = list(map(lambda x : x+2,list3))\n",
    "print(squared)"
   ]
  },
  {
   "cell_type": "code",
   "execution_count": 64,
   "metadata": {},
   "outputs": [
    {
     "name": "stdout",
     "output_type": "stream",
     "text": [
      "[6, 8]\n"
     ]
    }
   ],
   "source": [
    "squared = list(filter(lambda x : x%2 ==0,list3))\n",
    "print(squared)"
   ]
  },
  {
   "cell_type": "code",
   "execution_count": 66,
   "metadata": {},
   "outputs": [],
   "source": [
    "from functools import reduce"
   ]
  },
  {
   "cell_type": "code",
   "execution_count": 69,
   "metadata": {},
   "outputs": [
    {
     "name": "stdout",
     "output_type": "stream",
     "text": [
      "1680\n"
     ]
    }
   ],
   "source": [
    "sum_of_nums = reduce(lambda x,y : x*y,list3 )\n",
    "print(sum_of_nums)"
   ]
  },
  {
   "cell_type": "code",
   "execution_count": 70,
   "metadata": {},
   "outputs": [],
   "source": [
    "def fact(n):\n",
    "    if n == 1:\n",
    "        return 1\n",
    "    return n*fact(n-1)\n",
    "    "
   ]
  },
  {
   "cell_type": "code",
   "execution_count": null,
   "metadata": {},
   "outputs": [],
   "source": [
    "fact(6)"
   ]
  }
 ],
 "metadata": {
  "kernelspec": {
   "display_name": "Python 3",
   "language": "python",
   "name": "python3"
  },
  "language_info": {
   "codemirror_mode": {
    "name": "ipython",
    "version": 3
   },
   "file_extension": ".py",
   "mimetype": "text/x-python",
   "name": "python",
   "nbconvert_exporter": "python",
   "pygments_lexer": "ipython3",
   "version": "3.13.0"
  }
 },
 "nbformat": 4,
 "nbformat_minor": 2
}
