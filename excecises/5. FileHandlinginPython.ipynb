{
 "cells": [
  {
   "cell_type": "markdown",
   "metadata": {},
   "source": [
    "## FileHandlinginPython"
   ]
  },
  {
   "cell_type": "code",
   "execution_count": 31,
   "metadata": {},
   "outputs": [],
   "source": [
    "file = open(r\"C:\\Users\\heman\\Desktop\\python_basics\\input\\Greeting.txt\",'r')\n"
   ]
  },
  {
   "cell_type": "code",
   "execution_count": null,
   "metadata": {},
   "outputs": [
    {
     "name": "stdout",
     "output_type": "stream",
     "text": [
      "Hi welcome to today's video\n",
      "today's video about file handling\n"
     ]
    }
   ],
   "source": [
    "file = open(r\"C:\\Users\\heman\\Desktop\\python_basics\\input\\Greeting.txt\",'r')\n",
    "for line in file:\n",
    "    print(line.strip())"
   ]
  },
  {
   "cell_type": "code",
   "execution_count": null,
   "metadata": {},
   "outputs": [
    {
     "name": "stdout",
     "output_type": "stream",
     "text": [
      "\n"
     ]
    }
   ],
   "source": [
    "file = open(r\"C:\\Users\\heman\\Desktop\\python_basics\\input\\Greeting.txt\",'r')\n",
    "content = file.read()\n",
    "print(content)\n",
    "\n"
   ]
  },
  {
   "cell_type": "code",
   "execution_count": 33,
   "metadata": {},
   "outputs": [
    {
     "name": "stdout",
     "output_type": "stream",
     "text": [
      "[\"Hi welcome to today's video\\n\", \"today's video about file handling\"]\n"
     ]
    }
   ],
   "source": [
    "# print(file.readline())\n",
    "file = open(r\"C:\\Users\\heman\\Desktop\\python_basics\\input\\Greeting.txt\",'r')\n",
    "print(file.readlines())"
   ]
  },
  {
   "cell_type": "code",
   "execution_count": 58,
   "metadata": {},
   "outputs": [],
   "source": [
    "file = open(r\"C:\\Users\\heman\\Desktop\\python_basics\\input\\Greeting.txt\",'w')\n",
    "file.write(\"hello this text from write mode !\")\n",
    "file.close()"
   ]
  },
  {
   "cell_type": "code",
   "execution_count": 56,
   "metadata": {},
   "outputs": [],
   "source": [
    "file = open(r\"C:\\Users\\heman\\Desktop\\python_basics\\input\\Greeting.txt\",'a')\n",
    "file.write(\"\\n this is from append mode\")\n",
    "file.close()"
   ]
  },
  {
   "cell_type": "code",
   "execution_count": 59,
   "metadata": {},
   "outputs": [
    {
     "name": "stdout",
     "output_type": "stream",
     "text": [
      "hello this text from write mode !\n"
     ]
    }
   ],
   "source": [
    "with open(r\"C:\\Users\\heman\\Desktop\\python_basics\\input\\Greeting.txt\",'r') as file1:\n",
    "    content1 = file1.read()\n",
    "    print(content1)"
   ]
  },
  {
   "cell_type": "code",
   "execution_count": 61,
   "metadata": {},
   "outputs": [
    {
     "name": "stdout",
     "output_type": "stream",
     "text": [
      "b'\\xff\\xd8\\xff\\xe0\\x00\\x10JFIF\\x00\\x01\\x01\\x00\\x00\\x01\\x00\\x01\\x00\\x00\\xff\\xdb\\x00\\x84\\x00\\x03\\x02\\x02\\x03\\x02\\x02\\x03\\x03\\x03\\x03\\x04\\x03\\x03\\x04\\x05\\x08\\x05\\x05\\x04\\x04\\x05\\n\\x07\\x07\\x06\\x08\\x0c\\n\\x0c\\x0c\\x0b\\n\\x0b\\x0b\\r\\x0e\\x12\\x10\\r\\x0e\\x11\\x0e\\x0b\\x0b\\x10\\x16\\x10\\x11\\x13\\x14\\x15\\x15\\x15\\x0c\\x0f\\x17\\x18\\x16\\x14\\x18\\x12\\x14\\x15\\x14\\x01\\x03\\x04\\x04\\x06\\x05\\x06\\n\\x06\\x06\\n\\x13\\r\\n\\x0e\\x0f\\x0b\\x11\\r\\x0b\\x14\\x10\\x0f\\x14\\x12\\x12\\x10\\x11\\x0e\\x0f\\x12\\x10\\r\\x0f\\r\\x0e\\x0f\\x10\\x14\\x12\\x0e\\x0f\\x10\\x12\\x11\\x0f\\x14\\x0f\\x13\\x0f\\x10\\r\\x0e\\r\\x11\\x0e\\x10\\r\\n\\x0f\\n\\x0e\\r\\r\\r\\xff\\xc0\\x00\\x11\\x08\\x000\\x000\\x03\\x01\\x11\\x00\\x02\\x11\\x01\\x03\\x11\\x01\\xff\\xc4\\x00\\x1c\\x00\\x00\\x01\\x04\\x03\\x01\\x00\\x00\\x00\\x00\\x00\\x00\\x00\\x00\\x00\\x00\\x00\\x00\\x04\\x05\\x06\\x07\\x01\\x02\\x03\\t\\xff\\xc4\\x00*\\x10\\x00\\x02\\x02\\x01\\x04\\x01\\x02\\x06\\x02\\x03\\x00\\x00\\x00\\x00\\x00\\x00\\x01\\x02\\x03\\x04\\x05\\x00\\x06\\x11\\x12\\x13!\"\\x07\\x08\\x1412AQa\\x16#3\\xff\\xc4\\x00\\x18\\x01\\x01\\x00\\x03\\x01\\x00\\x00\\x00\\x00\\x00\\x00\\x00\\x00\\x00\\x00\\x00\\x00\\x00\\x01\\x02\\x03\\x04\\xff\\xc4\\x00*\\x11\\x00\\x02\\x01\\x02\\x03\\x07\\x03\\x05\\x00\\x00\\x00\\x00\\x00\\x00\\x00\\x00\\x00\\x01\\x11\\x02!1AQ\\x03\\x12\\x13aq\\x81\\xb1\\x04\\x91\\xd12B\\xa1\\xf0\\xf1\\xff\\xda\\x00\\x0c\\x03\\x01\\x00\\x02\\x11\\x03\\x11\\x00?\\x00\\xf5O@\\x1a\\x03\\x1a\\x00\\xe7@g@\\x1a\\x00\\xd0\\t2\\xd9:\\xd8\\\\e\\xab\\xf7fZ\\xf5*\\xc6\\xd3K+\\x1e\\x02\\xaa\\x8eI\\xd0\\x15\\\\t3Y\\xed\\xc1%\\xe7\\xae\\r[uE\\x89k\\xb9\\xe6\\xd7\\xe6Bx<\\x9c\\xc7\\x18\\x0b\\xc2\\x90G\\xfb?>c<\\x86\\x01\\xc6\\x88\\xa1\\xb5\\xb7%[\\xb8\\x8b\\x16\\xdb\\x1e\\xf0J\\xb9J\\xd6%v(C\\xc5\\xc4\\x8c\\x8f\\xff\\x006N\\xfd\\xb8\\x1dG\\x8c\\xc8x<.\\x80\\xb3A\\xe7@g@\\x1a\\x01\\xb3r\\xe0kn\\x8c\\x15\\xcc]\\xce\\xcb\\x05\\x94\\xeb\\xdd\\x0fW\\x8d\\x81\\xe5]O\\xe9\\x95\\x80`\\x7fD\\r\\x01\\x00\\xc5\\xef\\x1c\\x95\\\\\\xf4\\x95oTk\\xb9:\\xb5\\x05i\\xeeF:\\xd7F\\x0eOi\\xca\\x82b\\xe4\\x0e\\xc0\\xf5\\xe1\\x95\\x95\\x80\\x01\\x8a\\xa0\\x1cs\\x18\\x8a\\x1b\\xd3wP\\xa1=\\xda\\xd9\\xeb2R\\x9b\\xea\\x9e%_\\rj\\xec\\xe8\\xac\\xa1A?\\x97WA\\xdc\\xb3\\x06b\\xc3\\xf0#@Z\\xc8\\xa1\\x14(\\x01@\\x1c\\x004\\x06\\xda\\x02\\xa7\\xca|\\xc9m|.\\xee\\xb7\\xb7.\\xd7\\xc9A\\x90\\x83?Ko\\x06j\\xe3\\xc5,\\xb6cF\\x8ee~\\xdcx{\\xc8\\xb0\\x97n8\\x94\\xaapK\\xa7n\\xaa}5uS\\xbdL}-\\xfbb\\xba\\xe7\\xd2\\xf8Le\\xc4S\\x07J\\x7f\\x1fi_\\xda\\xf9\\x0c\\xdc[s8\\x16\\x8d\\xca\\x98\\xb9\\xe9\\xca\\x95\\xd2e\\xbd4\\xeb\\x03\\xd5\\x1c\\xcb\\xd0\\xb4/\"w`\\xdd=\\xde\\xc7~\\x0e\\xa1\\xec\\x1a\\xabwyf\\xe6\\xf8%3\\x86yg\\xaaC\\x89i\\x81\\xb2\\xa7\\xc5\\xed\\x9d\\xbc\\xf2[q-m+2\\xe4\\xf2\\xd3]\\xa3*d*Ui1\\xb6*\\xcd$\\x0f\\x05\\x86\\xf20\\xe5\\xa6\\x8aX\\xd1\\xa22#\\x15\\xe47R\\x18\\xab\\xf4\\xf5S2\\xd5\\xa21\\xbaw\\x95m/x|\\xa4-\\xa2xs\\xfc\\x08p\\xbf0{k\\x11\\xb6S7\\xfe\\x11\\x95\\xdb\\x95\\xadn\\x0b\\x1bx\\xc5\\xe1\\xa4\\x1c\\xcbVK\\x11\\xdb\\x99\\xfc32\\xac0}-\\x86,\\xc4\\x12\\x14\\x04\\x0e\\xce\\x8a\\xd6\\xaf\\xd3UK\\xdd\\x94\\xedK\\xec\\xe21\\x8b\\xddYs\\xd0\\x95]\\xa5\\xa8\\xfd\\xeeY\\x99\\x0f\\x88x\\xdcKn\\x93lK\\x04;v\\xaa\\\\\\xb7;\\x05\\xe8\\xd1\\xb4o\\'\\xb7\\xd7\\xee\\x02\\x1f\\xbf\\x1e\\xbck\\x9dP\\xdcFe\\xa5\\\\\\x84R\\xf9\\x96\\xc1\\xdf\\x9fnA\\x16\\x1f)\\xe7\\xcc\\xb2B\\xd0\\xf9*\\x16\\xa51\\xb8i\\xcb\\x0c\\xbcO\\xeeh\\xa6GY<E\\xc0\\xe8\\xdc\\x13\\xe9\\xce\\xabaT6\\xde\\xba\\xe9:f\\x8a\\xba\\xd1*\\xdc?\\x0c\\xf6\\x95\\xabi\\x97\\xb7\\xb6`\\xc9d\"\\x98J\\x92\\xac}\\xe6\\x0f\\xf55\\xec\\xf6\\x07\\x9f\\xd4\\xf5kI\\xfd\\x18W\\xf8\\xd6j\\xba\\xa3vm\\xfd\\xf9d\\xb4\\x8d/`\\xf0\\x99l]\\xbc=\\xad\\xb3x\\xd0\\xbbp\\\\\\x95B\\xb2\\x86\\x9f\\xc8%\\x12\\xf6V\\xec\\xa4:\\xabr8\\xe0\\x81\\xa9M\\xa7)\\x91\\x8d\\xa0jo\\x86{\\x1f\\x1a\\xf5\\xde\\x1d\\x83\\x1c\\xb3@a\\x9a)a\\xa8\\xa5\\xe3\\x92;\\x0fiX9<\\x87\\x13\\xc9$\\xa5\\x81\\xe5\\x9d\\x99\\x98\\x92y7\\xe2\\xed\\x1f\\xdd\\xae|\\xa3\\xc5\\xbaX\\x87E9\\xad>|\\x9b\\xe4\\xf6\\x06\\xcc\\xcbQ\\xb7\\x8b\\xbf\\xb1~\\xbf\\x1a[!3Af\\x98\\x92\\x19^\\xd3\\xb4\\xb6\\x88F\\'\\xdf+\\xbb\\x1ex\\x1e\\xac\\xdc\\x11\\xc9\\xe4\\xb6\\x95\\xd2\\xd5J\\xa8v\\xbc\\xe9\\x87\\xb0i<Q\\xdb-\\xb3\\xf6\\xd6Z\\xe5\\xdbwv\\xc6J\\xd4\\xb2\\xc1\\x1dy\\xe3f\\x94\\xc7j8\\xcf\\x08\\x8f\\x1f\\x93\\xa4\\x9f\\xc7\\xb8}\\x89\\xe7\\xd0\\x9dUT\\xd2\\x84\\xc3I\\xe4-\\x8b\\xe0\\xd6\\xc9\\x92j\\xb6\\x86\\xdb\\xab\\t\\x86d\\xb7\\x1du\\x0c\\x90\\xac\\xa2a:\\xb1\\x88\\x1e\\x84\\xac\\xc0H9_k\\x8e\\xc3\\x83\\xeb\\xa8\\xe2\\xd6\\xb3\\xe5\\xda#\\xc5\\xbar,\\xa9X\\x93\\x8dd\\\\4\\x01\\xa0\\r\\x00h\\x03@\\x7f\\xff\\xd9'\n"
     ]
    }
   ],
   "source": [
    "with open(r\"C:\\Users\\heman\\Desktop\\channels4_profile.jpg\",\"rb\") as file:\n",
    "    binary_data =file.read()\n",
    "    print(binary_data)"
   ]
  },
  {
   "cell_type": "code",
   "execution_count": 64,
   "metadata": {},
   "outputs": [],
   "source": [
    "with open(r\"C:\\Users\\heman\\Desktop\\python_basics\\output\\my logo.jpg\",\"wb\") as file:\n",
    "    file.write(binary_data)"
   ]
  },
  {
   "cell_type": "code",
   "execution_count": null,
   "metadata": {},
   "outputs": [],
   "source": [
    "with open(r\"C:\\Users\\heman\\Desktop\\images\\adf.jpg\",\"rb\") as adf:\n",
    "    img = adf.read()"
   ]
  },
  {
   "cell_type": "code",
   "execution_count": null,
   "metadata": {},
   "outputs": [],
   "source": [
    "with open(r\"C:\\Users\\heman\\Desktop\\python_basics\\output\\adf.jpg\",\"wb\") as adf_out:\n",
    "    adf_out.write(img)"
   ]
  },
  {
   "cell_type": "code",
   "execution_count": 73,
   "metadata": {},
   "outputs": [
    {
     "name": "stdout",
     "output_type": "stream",
     "text": [
      "file not fount\n"
     ]
    }
   ],
   "source": [
    "import os \n",
    "\n",
    "if os.path.exists(r\"C:\\Users\\heman\\Desktop\\images\\adf222.jpg\"):\n",
    "    with open(r\"C:\\Users\\heman\\Desktop\\images\\adf.jpg\",\"rb\") as adf:\n",
    "        img1 = adf.read()\n",
    "else:\n",
    "    print(\"file not fount\")\n",
    "    \n"
   ]
  },
  {
   "cell_type": "code",
   "execution_count": 75,
   "metadata": {},
   "outputs": [],
   "source": [
    "os.remove(r\"C:\\Users\\heman\\Desktop\\python_basics\\output\\my logo.jpg\")"
   ]
  },
  {
   "cell_type": "code",
   "execution_count": 76,
   "metadata": {},
   "outputs": [],
   "source": [
    "import csv\n",
    "data=[\n",
    " [\"Name\",\"Age\",\"City\"],\n",
    " [\"Alice\",30,\"NewYork\"],\n",
    " [\"Bob\",25,\"London\"]\n",
    " ]"
   ]
  },
  {
   "cell_type": "code",
   "execution_count": 84,
   "metadata": {},
   "outputs": [],
   "source": [
    "with open (r\"C:\\Users\\heman\\Desktop\\python_basics\\output\\data.csv\",\"a\",newline=\"\")as file:\n",
    "    writer = csv.writer(file)\n",
    "    writer.writerows(data)\n",
    "    "
   ]
  },
  {
   "cell_type": "code",
   "execution_count": 85,
   "metadata": {},
   "outputs": [
    {
     "name": "stdout",
     "output_type": "stream",
     "text": [
      "['Name', 'Age', 'City']\n",
      "['Alice', '30', 'NewYork']\n",
      "['Bob', '25', 'London']\n",
      "['Name', 'Age', 'City']\n",
      "['Alice', '30', 'NewYork']\n",
      "['Bob', '25', 'London']\n",
      "['Name', 'Age', 'City']\n",
      "['Alice', '30', 'NewYork']\n",
      "['Bob', '25', 'London']\n"
     ]
    }
   ],
   "source": [
    "with open(r\"C:\\Users\\heman\\Desktop\\python_basics\\output\\data.csv\",\"r\") as file:\n",
    "    reader = csv.reader(file)\n",
    "    for row in reader:\n",
    "        print(row)"
   ]
  },
  {
   "cell_type": "code",
   "execution_count": 87,
   "metadata": {},
   "outputs": [],
   "source": [
    "import json \n",
    "\n",
    "data={\n",
    " \"name\":\"Alice\",\n",
    " \"age\":30,\n",
    " \"city\":\"NewYork\"\n",
    " }"
   ]
  },
  {
   "cell_type": "code",
   "execution_count": 102,
   "metadata": {},
   "outputs": [],
   "source": [
    "with open(r\"C:\\Users\\heman\\Desktop\\python_basics\\output\\data.json\",\"w\")as jfile:\n",
    "    json.dump(data,jfile)"
   ]
  },
  {
   "cell_type": "code",
   "execution_count": 104,
   "metadata": {},
   "outputs": [
    {
     "name": "stdout",
     "output_type": "stream",
     "text": [
      "{'name': 'Alice', 'age': 30, 'city': 'NewYork'}\n"
     ]
    }
   ],
   "source": [
    "with open(r\"C:\\Users\\heman\\Desktop\\python_basics\\output\\data.json\",\"r\")as jfile:\n",
    "    data = json.load(jfile)\n",
    "    print(data)"
   ]
  },
  {
   "cell_type": "code",
   "execution_count": null,
   "metadata": {},
   "outputs": [],
   "source": []
  }
 ],
 "metadata": {
  "kernelspec": {
   "display_name": "Python 3",
   "language": "python",
   "name": "python3"
  },
  "language_info": {
   "codemirror_mode": {
    "name": "ipython",
    "version": 3
   },
   "file_extension": ".py",
   "mimetype": "text/x-python",
   "name": "python",
   "nbconvert_exporter": "python",
   "pygments_lexer": "ipython3",
   "version": "3.13.0"
  }
 },
 "nbformat": 4,
 "nbformat_minor": 2
}
