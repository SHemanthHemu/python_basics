{
 "cells": [
  {
   "cell_type": "code",
   "execution_count": 43,
   "metadata": {},
   "outputs": [],
   "source": [
    "def devision(value1,value2):\n",
    "    devide = value1/value2\n",
    "    print(devide)\n",
    "    \n"
   ]
  },
  {
   "cell_type": "code",
   "execution_count": null,
   "metadata": {},
   "outputs": [
    {
     "name": "stdout",
     "output_type": "stream",
     "text": [
      "you enter non integer number\n"
     ]
    }
   ],
   "source": [
    "try:\n",
    "    val1 = int(input(\"please value -1 :\"))\n",
    "    val2 = int(input(\"please value -2 :\"))\n",
    "    devision(val1,val2)\n",
    "except ZeroDivisionError:\n",
    "    print(\"cannot devide value1 with 0\")\n",
    "except ValueError:\n",
    "    print(f\"you enter non integer number\")"
   ]
  },
  {
   "cell_type": "code",
   "execution_count": 58,
   "metadata": {},
   "outputs": [
    {
     "name": "stdout",
     "output_type": "stream",
     "text": [
      "invalid input\n",
      "code exicution done\n"
     ]
    }
   ],
   "source": [
    "try:\n",
    "    val1 = int(input(\"please value -1 :\"))\n",
    "    val2 = int(input(\"please value -2 :\"))\n",
    "    devision(val1,val2)\n",
    "except (ZeroDivisionError,ValueError):\n",
    "    print(\"invalid input\")\n",
    "else:\n",
    "    print(\"devided successfully\")\n",
    "finally:\n",
    "    print(\"code exicution done\")\n"
   ]
  },
  {
   "cell_type": "code",
   "execution_count": 45,
   "metadata": {},
   "outputs": [
    {
     "name": "stdout",
     "output_type": "stream",
     "text": [
      "after error\n"
     ]
    }
   ],
   "source": [
    "print(\"after error\")"
   ]
  },
  {
   "cell_type": "code",
   "execution_count": 46,
   "metadata": {},
   "outputs": [],
   "source": [
    "def convert_int(number):\n",
    "    num = int(number)\n",
    "    print(f\"you entred {num}\")"
   ]
  },
  {
   "cell_type": "code",
   "execution_count": null,
   "metadata": {},
   "outputs": [
    {
     "name": "stdout",
     "output_type": "stream",
     "text": [
      "you entred 45\n"
     ]
    }
   ],
   "source": [
    "try:   \n",
    "    number = input(\"please enter a number:\")\n",
    "    convert_int(number)\n",
    "except ValueError:\n",
    "    print(f\"you enter non integer number {number}\")"
   ]
  },
  {
   "cell_type": "code",
   "execution_count": 60,
   "metadata": {},
   "outputs": [
    {
     "ename": "ValueError",
     "evalue": "negitve numbers not allowed ",
     "output_type": "error",
     "traceback": [
      "\u001b[1;31m---------------------------------------------------------------------------\u001b[0m",
      "\u001b[1;31mValueError\u001b[0m                                Traceback (most recent call last)",
      "Cell \u001b[1;32mIn[60], line 4\u001b[0m\n\u001b[0;32m      1\u001b[0m val1 \u001b[38;5;241m=\u001b[39m \u001b[38;5;28mint\u001b[39m(\u001b[38;5;28minput\u001b[39m(\u001b[38;5;124m\"\u001b[39m\u001b[38;5;124mplease value -1 :\u001b[39m\u001b[38;5;124m\"\u001b[39m))\n\u001b[0;32m      3\u001b[0m \u001b[38;5;28;01mif\u001b[39;00m val1 \u001b[38;5;241m<\u001b[39m \u001b[38;5;241m0\u001b[39m:\n\u001b[1;32m----> 4\u001b[0m     \u001b[38;5;28;01mraise\u001b[39;00m \u001b[38;5;167;01mValueError\u001b[39;00m(\u001b[38;5;124m\"\u001b[39m\u001b[38;5;124mnegitve numbers not allowed \u001b[39m\u001b[38;5;124m\"\u001b[39m)\n",
      "\u001b[1;31mValueError\u001b[0m: negitve numbers not allowed "
     ]
    }
   ],
   "source": [
    "val1 = int(input(\"please value -1 :\"))\n",
    "\n",
    "if val1 < 0:\n",
    "    raise ValueError(\"negitve numbers not allowed \")"
   ]
  },
  {
   "cell_type": "code",
   "execution_count": null,
   "metadata": {},
   "outputs": [],
   "source": [
    "class neegitiveNumberException(Exception):\n",
    "    \"\"\"custum expception\"\"\"\n",
    "    pass\n",
    "\n",
    "def check_number(num):\n",
    "    if num<0:\n",
    "        raise neegitiveNumberException(\"negitive number detected\")\n",
    "\n",
    "\n"
   ]
  }
 ],
 "metadata": {
  "kernelspec": {
   "display_name": "Python 3",
   "language": "python",
   "name": "python3"
  },
  "language_info": {
   "codemirror_mode": {
    "name": "ipython",
    "version": 3
   },
   "file_extension": ".py",
   "mimetype": "text/x-python",
   "name": "python",
   "nbconvert_exporter": "python",
   "pygments_lexer": "ipython3",
   "version": "3.13.0"
  }
 },
 "nbformat": 4,
 "nbformat_minor": 2
}
