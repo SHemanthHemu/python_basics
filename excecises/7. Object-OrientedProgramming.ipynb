{
 "cells": [
  {
   "cell_type": "markdown",
   "metadata": {},
   "source": [
    "## Object-OrientedProgramming"
   ]
  },
  {
   "cell_type": "code",
   "execution_count": null,
   "metadata": {},
   "outputs": [],
   "source": [
    " # defining a class\n",
    "class Car:\n",
    "    type = \"four wheeler\" # Class variable\n",
    "    \n",
    "    def __init__(self,brand,model,year): # constructor\n",
    "         self.brand = brand # attributes/instance variable\n",
    "         self.model = model \n",
    "         self.year = year \n",
    "    def display_info(self): #methos\n",
    "        print(f\"this car belongs to {self.brand} brand model is {self.model} made in the year of {self.year}\")"
   ]
  },
  {
   "cell_type": "code",
   "execution_count": 36,
   "metadata": {},
   "outputs": [],
   "source": [
    "Car.type = \"passenger vehical\""
   ]
  },
  {
   "cell_type": "code",
   "execution_count": null,
   "metadata": {},
   "outputs": [],
   "source": [
    "# creating objects \n",
    "car1 =Car(\"tayota\",\"corolla\",2025)\n",
    "car2 = Car(\"Honda\",\"civic\",2021)\n"
   ]
  },
  {
   "cell_type": "code",
   "execution_count": 41,
   "metadata": {},
   "outputs": [],
   "source": [
    "car2.brand = \"tesla\"\n",
    "# car2.type\n",
    "# car1.type\n",
    "\n"
   ]
  },
  {
   "cell_type": "code",
   "execution_count": 42,
   "metadata": {},
   "outputs": [
    {
     "data": {
      "text/plain": [
       "'tesla'"
      ]
     },
     "execution_count": 42,
     "metadata": {},
     "output_type": "execute_result"
    }
   ],
   "source": [
    "car2.brand"
   ]
  },
  {
   "cell_type": "code",
   "execution_count": 49,
   "metadata": {},
   "outputs": [],
   "source": [
    "# Encapsulation(data hiding)\n",
    "class BankAccount:\n",
    "    def __init__(self,balance):\n",
    "        self.__balance =balance\n",
    "    def deposite(self,amount):\n",
    "        self.__balance+=amount\n",
    "    def get_balance(self):\n",
    "        return self.__balance\n",
    "    "
   ]
  },
  {
   "cell_type": "code",
   "execution_count": 52,
   "metadata": {},
   "outputs": [],
   "source": [
    "account1 = BankAccount(1500)\n",
    "account1.deposite(200)"
   ]
  },
  {
   "cell_type": "code",
   "execution_count": 55,
   "metadata": {},
   "outputs": [
    {
     "name": "stdout",
     "output_type": "stream",
     "text": [
      "1700\n"
     ]
    }
   ],
   "source": [
    "print(account1.get_balance())\n"
   ]
  },
  {
   "cell_type": "code",
   "execution_count": null,
   "metadata": {},
   "outputs": [],
   "source": [
    "# inheritance (reusing code) \n",
    "class vehical:\n",
    "    def function(self):\n",
    "        print(\"moves\")\n",
    "class passenger:\n",
    "    def serves(self):\n",
    "        print(\"serves only for passengers\")\n",
    "class Two_wheeler(vehical,passenger):\n",
    "    pass\n",
    "       \n",
    "    "
   ]
  },
  {
   "cell_type": "code",
   "execution_count": 72,
   "metadata": {},
   "outputs": [
    {
     "name": "stdout",
     "output_type": "stream",
     "text": [
      "moves\n",
      "serves only for passengers\n"
     ]
    }
   ],
   "source": [
    "bike = Two_wheeler()\n",
    "bike.function()\n",
    "bike.serves()"
   ]
  },
  {
   "cell_type": "code",
   "execution_count": 76,
   "metadata": {},
   "outputs": [],
   "source": [
    "# method overriding\n",
    "class Animal:\n",
    "    def speak(self):\n",
    "        print(\"Speaks with out words\")\n",
    "    def legs(self):\n",
    "        print(\"dog having 4 legs\")\n",
    "\n",
    "class Dog(Animal):\n",
    "    def speak (self):\n",
    "        print(\"dog barks\")\n",
    "    "
   ]
  },
  {
   "cell_type": "code",
   "execution_count": 77,
   "metadata": {},
   "outputs": [],
   "source": [
    "dog1= Dog()"
   ]
  },
  {
   "cell_type": "code",
   "execution_count": 78,
   "metadata": {},
   "outputs": [
    {
     "name": "stdout",
     "output_type": "stream",
     "text": [
      "dog barks\n",
      "dog having 4 legs\n"
     ]
    }
   ],
   "source": [
    "dog1.speak()\n",
    "dog1.legs()\n"
   ]
  },
  {
   "cell_type": "code",
   "execution_count": 79,
   "metadata": {},
   "outputs": [],
   "source": [
    "# polymarphism\n",
    "class Bird:\n",
    "    def fly(self):\n",
    "        print(\"Birds can fly\")\n",
    "        \n",
    "class Corw(Bird):\n",
    "    pass\n",
    "\n",
    "class Chicken(Bird):\n",
    "    def fly(self):\n",
    "        print(\"chicken cannot fly\")"
   ]
  },
  {
   "cell_type": "code",
   "execution_count": 80,
   "metadata": {},
   "outputs": [],
   "source": [
    "chicken1 = Chicken()\n",
    "crow1 = Corw()\n"
   ]
  },
  {
   "cell_type": "code",
   "execution_count": 82,
   "metadata": {},
   "outputs": [
    {
     "name": "stdout",
     "output_type": "stream",
     "text": [
      "Birds can fly\n",
      "chicken cannot fly\n"
     ]
    }
   ],
   "source": [
    "crow1.fly()\n",
    "chicken1.fly()"
   ]
  },
  {
   "cell_type": "code",
   "execution_count": 83,
   "metadata": {},
   "outputs": [],
   "source": [
    "# super\n",
    "class Employee:\n",
    "    def __init__ (self,name,salary):\n",
    "        self.name = name\n",
    "        self.salary = salary\n",
    "        \n",
    "class Manager(Employee):\n",
    "    def __init__ (self,name,salary,department):\n",
    "        super().__init__(name,salary) # Super class calling\n",
    "        self.department =department\n",
    "\n"
   ]
  },
  {
   "cell_type": "code",
   "execution_count": 87,
   "metadata": {},
   "outputs": [],
   "source": [
    "prd_manager = Manager(\"gopi\",55000,\"production\")\n",
    "it_manager = Manager(\"hohn\",60000,\"it\")"
   ]
  },
  {
   "cell_type": "code",
   "execution_count": 88,
   "metadata": {},
   "outputs": [
    {
     "data": {
      "text/plain": [
       "'it'"
      ]
     },
     "execution_count": 88,
     "metadata": {},
     "output_type": "execute_result"
    }
   ],
   "source": [
    "prd_manager.department\n",
    "it_manager.department"
   ]
  },
  {
   "cell_type": "code",
   "execution_count": 100,
   "metadata": {},
   "outputs": [],
   "source": [
    "from abc import ABC,abstractmethod"
   ]
  },
  {
   "cell_type": "code",
   "execution_count": 108,
   "metadata": {},
   "outputs": [],
   "source": [
    "# abstract class \n",
    "\n",
    "class Human(ABC):\n",
    "    @abstractmethod\n",
    "    def sound(self):\n",
    "        print(\"gives some voice\")\n"
   ]
  },
  {
   "cell_type": "code",
   "execution_count": 109,
   "metadata": {},
   "outputs": [],
   "source": [
    "class Chaild (Human):\n",
    "    def feel(self):\n",
    "        print(\"hungry\")\n",
    "    def sound(self):\n",
    "        return super().sound()"
   ]
  },
  {
   "cell_type": "code",
   "execution_count": 117,
   "metadata": {},
   "outputs": [],
   "source": [
    "class Adult(Human):\n",
    "    def feel(self):\n",
    "        print(\"hungry\")\n",
    "    def sound(self):\n",
    "        print(\"they will talk\")"
   ]
  },
  {
   "cell_type": "code",
   "execution_count": 119,
   "metadata": {},
   "outputs": [
    {
     "name": "stdout",
     "output_type": "stream",
     "text": [
      "hungry\n",
      "they will talk\n"
     ]
    }
   ],
   "source": [
    "adult1 = Adult()\n",
    "adult1.feel()\n",
    "adult1.sound()"
   ]
  },
  {
   "cell_type": "code",
   "execution_count": 110,
   "metadata": {},
   "outputs": [],
   "source": [
    "chaild1 = Chaild()"
   ]
  },
  {
   "cell_type": "code",
   "execution_count": 111,
   "metadata": {},
   "outputs": [
    {
     "name": "stdout",
     "output_type": "stream",
     "text": [
      "gives some voice\n"
     ]
    }
   ],
   "source": [
    "chaild1.sound()"
   ]
  }
 ],
 "metadata": {
  "kernelspec": {
   "display_name": "Python 3",
   "language": "python",
   "name": "python3"
  },
  "language_info": {
   "codemirror_mode": {
    "name": "ipython",
    "version": 3
   },
   "file_extension": ".py",
   "mimetype": "text/x-python",
   "name": "python",
   "nbconvert_exporter": "python",
   "pygments_lexer": "ipython3",
   "version": "3.13.0"
  }
 },
 "nbformat": 4,
 "nbformat_minor": 2
}
