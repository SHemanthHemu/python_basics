{
 "cells": [
  {
   "cell_type": "markdown",
   "metadata": {},
   "source": [
    "## Regular Expressions"
   ]
  },
  {
   "cell_type": "code",
   "execution_count": 1,
   "metadata": {},
   "outputs": [],
   "source": [
    "import re"
   ]
  },
  {
   "cell_type": "code",
   "execution_count": 2,
   "metadata": {},
   "outputs": [],
   "source": [
    "text = \"Hello i am learning python and python is very easy and learning python is fun\""
   ]
  },
  {
   "cell_type": "code",
   "execution_count": null,
   "metadata": {},
   "outputs": [
    {
     "name": "stdout",
     "output_type": "stream",
     "text": [
      "no match found\n"
     ]
    }
   ],
   "source": [
    "# match \n",
    "match=re.search(\"hello\",text)\n",
    "if match:\n",
    "    print(\"match found :\", match.group())\n",
    "else:\n",
    "    print(\"no match found\")"
   ]
  },
  {
   "cell_type": "code",
   "execution_count": 14,
   "metadata": {},
   "outputs": [
    {
     "name": "stdout",
     "output_type": "stream",
     "text": [
      "match not found\n"
     ]
    }
   ],
   "source": [
    "# Search\n",
    "# text = \"Hello i am learning python and python is very easy and learning python is fun\"\n",
    "search = re.search(\"classic\",text)\n",
    "if search:\n",
    "    print(\"match found : \",search.group())\n",
    "else:\n",
    "    print(\"match not found\")"
   ]
  },
  {
   "cell_type": "code",
   "execution_count": 15,
   "metadata": {},
   "outputs": [
    {
     "name": "stdout",
     "output_type": "stream",
     "text": [
      "['python', 'python', 'python']\n"
     ]
    }
   ],
   "source": [
    "# findall \n",
    "matches = re.findall(\"python\",text)\n",
    "print(matches)"
   ]
  },
  {
   "cell_type": "code",
   "execution_count": null,
   "metadata": {},
   "outputs": [
    {
     "name": "stdout",
     "output_type": "stream",
     "text": [
      "find at : 20\n",
      "find at : 31\n",
      "find at : 64\n"
     ]
    }
   ],
   "source": [
    "# finditer \n",
    "# text = \"Hello i am learning python and python is very easy and learning python is fun\"\n",
    "matches1 = re.finditer(\"python\",text)\n",
    "for match in matches1:\n",
    "    print(\"find at :\" ,match.start())"
   ]
  },
  {
   "cell_type": "code",
   "execution_count": 17,
   "metadata": {},
   "outputs": [
    {
     "name": "stdout",
     "output_type": "stream",
     "text": [
      "Hello i am learning java and java is very easy and learning java is fun\n"
     ]
    }
   ],
   "source": [
    "# sub\n",
    "new_text=re.sub(r\"python\",\"java\",text)\n",
    "print(new_text)"
   ]
  },
  {
   "cell_type": "code",
   "execution_count": 22,
   "metadata": {},
   "outputs": [
    {
     "name": "stdout",
     "output_type": "stream",
     "text": [
      "['Hello', 'i', 'am', 'learning:', 'python', 'and', 'python', '', '', 'is', 'very', '', 'easy', 'and', 'learning', 'python', 'is', 'fun']\n"
     ]
    }
   ],
   "source": [
    "# split\n",
    "text1 = \"Hello i am learning: python and python ; is very. easy and learning python is fun\"\n",
    "words= re.split(r\"[ ;.]\",text1)\n",
    "print(words)"
   ]
  },
  {
   "cell_type": "code",
   "execution_count": 42,
   "metadata": {},
   "outputs": [
    {
     "name": "stdout",
     "output_type": "stream",
     "text": [
      "hello\n"
     ]
    }
   ],
   "source": [
    "text2 = \"hello i am hemanth my id is 62569845 good\"\n",
    "\n",
    "match2 = re.search(r\"\\bhello\\b\",text2)\n",
    "print(match2.group())\n"
   ]
  },
  {
   "cell_type": "code",
   "execution_count": 45,
   "metadata": {},
   "outputs": [
    {
     "name": "stdout",
     "output_type": "stream",
     "text": [
      "['apple', 'banana']\n"
     ]
    }
   ],
   "source": [
    "text4 = \"I have an apple or banana\"\n",
    "match4 = re.findall(r\"apple|banana|cherry\",text4)\n",
    "print(match4)"
   ]
  },
  {
   "cell_type": "code",
   "execution_count": null,
   "metadata": {},
   "outputs": [
    {
     "name": "stdout",
     "output_type": "stream",
     "text": [
      "in valid mail\n"
     ]
    }
   ],
   "source": [
    "# matching email \n",
    "mail = \"@gmail.com\"\n",
    "pattern = r\"^[a-zA-Z0-9_.+-]+@[a-zA-Z0-9-]+\\.[a-zA-Z0-9-.]+$\"\n",
    "matched = re.match(pattern,mail)\n",
    "if matched:\n",
    "    print(\"vallid mail\")\n",
    "else:\n",
    "    print(\"in valid mail\")"
   ]
  }
 ],
 "metadata": {
  "kernelspec": {
   "display_name": "Python 3",
   "language": "python",
   "name": "python3"
  },
  "language_info": {
   "codemirror_mode": {
    "name": "ipython",
    "version": 3
   },
   "file_extension": ".py",
   "mimetype": "text/x-python",
   "name": "python",
   "nbconvert_exporter": "python",
   "pygments_lexer": "ipython3",
   "version": "3.13.0"
  }
 },
 "nbformat": 4,
 "nbformat_minor": 2
}
