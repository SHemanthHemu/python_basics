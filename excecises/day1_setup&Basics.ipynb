{
 "cells": [
  {
   "cell_type": "code",
   "execution_count": 33,
   "metadata": {},
   "outputs": [],
   "source": [
    "# asigning value to a variable \n",
    "a=10\n",
    "b=20"
   ]
  },
  {
   "cell_type": "code",
   "execution_count": 5,
   "metadata": {},
   "outputs": [
    {
     "name": "stdout",
     "output_type": "stream",
     "text": [
      "70\n"
     ]
    }
   ],
   "source": [
    "print(a+b)"
   ]
  },
  {
   "cell_type": "code",
   "execution_count": 6,
   "metadata": {},
   "outputs": [
    {
     "name": "stdout",
     "output_type": "stream",
     "text": [
      "30\n"
     ]
    }
   ],
   "source": [
    "print(a-b)"
   ]
  },
  {
   "cell_type": "code",
   "execution_count": 9,
   "metadata": {},
   "outputs": [],
   "source": [
    "a =10"
   ]
  },
  {
   "cell_type": "code",
   "execution_count": 7,
   "metadata": {},
   "outputs": [
    {
     "name": "stdout",
     "output_type": "stream",
     "text": [
      "hello world\n"
     ]
    }
   ],
   "source": [
    "print(\"hello world\")"
   ]
  },
  {
   "cell_type": "code",
   "execution_count": 34,
   "metadata": {},
   "outputs": [
    {
     "name": "stdout",
     "output_type": "stream",
     "text": [
      "a is < b\n",
      "else block exicuted\n"
     ]
    }
   ],
   "source": [
    "\"\"\"\n",
    "this block of code will chaeck weather a >b or a < b \n",
    "and exicute print  command based on condition\n",
    "\"\"\"\n",
    "if a>b:\n",
    "    print(\"a is > b\")\n",
    "    print(\"if block exicuted\")\n",
    "else:\n",
    "    print(\"a is < b\")\n",
    "    print(\"else block exicuted\")"
   ]
  },
  {
   "cell_type": "code",
   "execution_count": 19,
   "metadata": {},
   "outputs": [
    {
     "name": "stdout",
     "output_type": "stream",
     "text": [
      "False\n"
     ]
    }
   ],
   "source": [
    "print(a>b)"
   ]
  },
  {
   "cell_type": "code",
   "execution_count": 17,
   "metadata": {},
   "outputs": [],
   "source": [
    "name = \"gopi\""
   ]
  },
  {
   "cell_type": "code",
   "execution_count": 15,
   "metadata": {},
   "outputs": [
    {
     "name": "stdout",
     "output_type": "stream",
     "text": [
      "john desuza marshal\n"
     ]
    }
   ],
   "source": [
    "print(name)"
   ]
  },
  {
   "cell_type": "code",
   "execution_count": 18,
   "metadata": {},
   "outputs": [
    {
     "name": "stdout",
     "output_type": "stream",
     "text": [
      "hello gopi\n",
      "gopi how r u\n"
     ]
    }
   ],
   "source": [
    "print(f\"hello {name}\")\n",
    "print(f\"{name} how r u\")"
   ]
  },
  {
   "cell_type": "markdown",
   "metadata": {},
   "source": [
    "• int → x = 10\n",
    "• float → y = 3.14\n",
    "• str → name = \"Python\"\n",
    "• bool → is_active = True\n",
    "• complex → z = 2 + 3j\n",
    "\n",
    "• list → numbers = [1, 2, 3]\n",
    "• tuple → coordinates = (4, 5, 6)\n",
    "• set → unique_values = {1, 2, 3}\n",
    "• dict → person = {\"name\": \"John\", \"age\": 30}"
   ]
  },
  {
   "cell_type": "code",
   "execution_count": 20,
   "metadata": {},
   "outputs": [
    {
     "name": "stdout",
     "output_type": "stream",
     "text": [
      "30\n",
      "-10\n",
      "200\n",
      "0.5\n",
      "0\n",
      "10\n",
      "100000000000000000000\n"
     ]
    }
   ],
   "source": [
    "print(a + b) # Addition -> 13\n",
    "print(a - b) # Subtraction -> 7\n",
    "print(a * b) # Multiplication -> 30\n",
    "print(a / b) # Division -> 3.33\n",
    "print(a // b) # Floor Division -> 3\n",
    "print(a % b) # Modulus -> 1\n",
    "print(a ** b) # Exponentiation -> 1000"
   ]
  },
  {
   "cell_type": "code",
   "execution_count": 21,
   "metadata": {},
   "outputs": [
    {
     "name": "stdout",
     "output_type": "stream",
     "text": [
      "False\n",
      "True\n",
      "False\n",
      "True\n"
     ]
    }
   ],
   "source": [
    "print(a > b) # False\n",
    "print(a < b) # True\n",
    "print(a ==b) # False\n",
    "print(a !=b) "
   ]
  },
  {
   "cell_type": "code",
   "execution_count": 22,
   "metadata": {},
   "outputs": [
    {
     "name": "stdout",
     "output_type": "stream",
     "text": [
      "False\n",
      "True\n",
      "False\n"
     ]
    }
   ],
   "source": [
    "x = True\n",
    "y = False\n",
    "print(x and y) # False\n",
    "print(x or y) # True\n",
    "print(not x) "
   ]
  },
  {
   "cell_type": "code",
   "execution_count": 29,
   "metadata": {},
   "outputs": [
    {
     "name": "stdout",
     "output_type": "stream",
     "text": [
      "hello ravi\n",
      "you are eligible for vote as your age 23.0 crossed 18\n"
     ]
    }
   ],
   "source": [
    "name = input(\"enter your name : \")\n",
    "age = float(input(\"enter your age : \"))\n",
    "\n",
    "print(f\"hello {name}\")\n",
    "if age > 18:\n",
    "    print(f\"you are eligible for vote as your age {age} crossed 18\")\n",
    "else:\n",
    "    print(\"your not qualified\")"
   ]
  },
  {
   "cell_type": "code",
   "execution_count": null,
   "metadata": {},
   "outputs": [],
   "source": []
  }
 ],
 "metadata": {
  "kernelspec": {
   "display_name": "Python 3",
   "language": "python",
   "name": "python3"
  },
  "language_info": {
   "codemirror_mode": {
    "name": "ipython",
    "version": 3
   },
   "file_extension": ".py",
   "mimetype": "text/x-python",
   "name": "python",
   "nbconvert_exporter": "python",
   "pygments_lexer": "ipython3",
   "version": "3.13.0"
  }
 },
 "nbformat": 4,
 "nbformat_minor": 2
}
